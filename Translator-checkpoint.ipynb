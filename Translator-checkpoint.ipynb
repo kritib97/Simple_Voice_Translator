{
 "cells": [
  {
   "cell_type": "markdown",
   "metadata": {},
   "source": [
    "# Speech Recognition From Microphone"
   ]
  },
  {
   "cell_type": "code",
   "execution_count": null,
   "metadata": {},
   "outputs": [],
   "source": [
    "#pip install pyaudio"
   ]
  },
  {
   "cell_type": "code",
   "execution_count": null,
   "metadata": {},
   "outputs": [],
   "source": [
    "#pip install SpeechRecognition"
   ]
  },
  {
   "cell_type": "code",
   "execution_count": 1,
   "metadata": {},
   "outputs": [],
   "source": [
    "import speech_recognition as sr\n",
    "r = sr.Recognizer()"
   ]
  },
  {
   "cell_type": "code",
   "execution_count": 96,
   "metadata": {},
   "outputs": [],
   "source": [
    "def hear(lang=\"en-EN\"):\n",
    "    # by default function writes in English unless mentioned otherwise\n",
    "    with sr.Microphone() as source:\n",
    "        # read the audio data from the default microphone\n",
    "        audio_data = r.record(source, duration=4)   # listens for 4 sec; use offset=1 to record after 1 sec\n",
    "        print(\"Recognizing...\")\n",
    "        # convert speech to text\n",
    "        #text = r.recognize_google(audio_data) # language=\"bn-BN\" to detect Bengali\n",
    "        #print(text)\n",
    "    \n",
    "        try: \n",
    "            text = r.recognize_google(audio_data, language=lang) # language=\"bn-BN\" to detect Bengali\n",
    "            print(text) \n",
    "        except sr.UnknownValueError: \n",
    "            print(\"Speech Recognition could not understand audio\")   \n",
    "        except sr.RequestError as e: \n",
    "            print(\"No internet connection. Could not request results from Google Speech Recognition service; {0}\".format(e))\n",
    "            \n",
    "    return text"
   ]
  },
  {
   "cell_type": "markdown",
   "metadata": {},
   "source": [
    "# Text to Speech Recognition"
   ]
  },
  {
   "cell_type": "code",
   "execution_count": 3,
   "metadata": {},
   "outputs": [],
   "source": [
    "################################ No need to create audio file & no need of internet - hence, faster ############################\n",
    "#pip install pyttsx3\n",
    "#pip install pypiwin32"
   ]
  },
  {
   "cell_type": "code",
   "execution_count": 4,
   "metadata": {},
   "outputs": [],
   "source": [
    "####################### Reads only English Text ################################\n",
    "def speak(s):\n",
    "    import pyttsx3\n",
    "    engine = pyttsx3.init()\n",
    "    engine.say(s)\n",
    "    engine.setProperty('rate',100)\n",
    "    engine.setProperty('volume', 0.9)\n",
    "    engine.runAndWait()"
   ]
  },
  {
   "cell_type": "markdown",
   "metadata": {},
   "source": [
    "# Detecting the Language and Translating it"
   ]
  },
  {
   "cell_type": "markdown",
   "metadata": {},
   "source": [
    "# create a dictionary for the translation"
   ]
  },
  {
   "cell_type": "code",
   "execution_count": 5,
   "metadata": {},
   "outputs": [],
   "source": [
    "#pip install googletrans"
   ]
  },
  {
   "cell_type": "code",
   "execution_count": 6,
   "metadata": {},
   "outputs": [
    {
     "name": "stdout",
     "output_type": "stream",
     "text": [
      "{'af': 'afrikaans', 'sq': 'albanian', 'am': 'amharic', 'ar': 'arabic', 'hy': 'armenian', 'az': 'azerbaijani', 'eu': 'basque', 'be': 'belarusian', 'bn': 'bengali', 'bs': 'bosnian', 'bg': 'bulgarian', 'ca': 'catalan', 'ceb': 'cebuano', 'ny': 'chichewa', 'zh-cn': 'chinese (simplified)', 'zh-tw': 'chinese (traditional)', 'co': 'corsican', 'hr': 'croatian', 'cs': 'czech', 'da': 'danish', 'nl': 'dutch', 'en': 'english', 'eo': 'esperanto', 'et': 'estonian', 'tl': 'filipino', 'fi': 'finnish', 'fr': 'french', 'fy': 'frisian', 'gl': 'galician', 'ka': 'georgian', 'de': 'german', 'el': 'greek', 'gu': 'gujarati', 'ht': 'haitian creole', 'ha': 'hausa', 'haw': 'hawaiian', 'iw': 'hebrew', 'hi': 'hindi', 'hmn': 'hmong', 'hu': 'hungarian', 'is': 'icelandic', 'ig': 'igbo', 'id': 'indonesian', 'ga': 'irish', 'it': 'italian', 'ja': 'japanese', 'jw': 'javanese', 'kn': 'kannada', 'kk': 'kazakh', 'km': 'khmer', 'ko': 'korean', 'ku': 'kurdish (kurmanji)', 'ky': 'kyrgyz', 'lo': 'lao', 'la': 'latin', 'lv': 'latvian', 'lt': 'lithuanian', 'lb': 'luxembourgish', 'mk': 'macedonian', 'mg': 'malagasy', 'ms': 'malay', 'ml': 'malayalam', 'mt': 'maltese', 'mi': 'maori', 'mr': 'marathi', 'mn': 'mongolian', 'my': 'myanmar (burmese)', 'ne': 'nepali', 'no': 'norwegian', 'ps': 'pashto', 'fa': 'persian', 'pl': 'polish', 'pt': 'portuguese', 'pa': 'punjabi', 'ro': 'romanian', 'ru': 'russian', 'sm': 'samoan', 'gd': 'scots gaelic', 'sr': 'serbian', 'st': 'sesotho', 'sn': 'shona', 'sd': 'sindhi', 'si': 'sinhala', 'sk': 'slovak', 'sl': 'slovenian', 'so': 'somali', 'es': 'spanish', 'su': 'sundanese', 'sw': 'swahili', 'sv': 'swedish', 'tg': 'tajik', 'ta': 'tamil', 'te': 'telugu', 'th': 'thai', 'tr': 'turkish', 'uk': 'ukrainian', 'ur': 'urdu', 'uz': 'uzbek', 'vi': 'vietnamese', 'cy': 'welsh', 'xh': 'xhosa', 'yi': 'yiddish', 'yo': 'yoruba', 'zu': 'zulu', 'fil': 'Filipino', 'he': 'Hebrew'}\n"
     ]
    }
   ],
   "source": [
    "import googletrans\n",
    "print(googletrans.LANGUAGES) # lists all supported languages in a dictionary shown below\n",
    "d = googletrans.LANGUAGES\n",
    "inv_map = {v: k for k, v in d.items()} # invert the dictionary"
   ]
  },
  {
   "cell_type": "markdown",
   "metadata": {},
   "source": [
    "# Create a function to detect the languages which have options"
   ]
  },
  {
   "cell_type": "code",
   "execution_count": 7,
   "metadata": {},
   "outputs": [],
   "source": [
    "def decide1(lang):\n",
    "    if (lang == 'chinese'):\n",
    "        speak('Simplified or Traditional')\n",
    "        t = hear().lower()\n",
    "    else:\n",
    "        t=\"not needed\"\n",
    "    return decide2(t, lang)\n",
    " \n",
    "def decide2(t, lang):\n",
    "    if (t == 'traditional'):\n",
    "        lang = 'chinese (traditional)'\n",
    "    elif t == 'simplified':\n",
    "        lang = 'chinese (simplified)'\n",
    "    elif lang == 'kurdish':\n",
    "        lang = 'kurdish (kurmanji)'\n",
    "    elif lang == 'myanmar':\n",
    "        lang = 'myanmar (burmese)'\n",
    "    return lang"
   ]
  },
  {
   "cell_type": "markdown",
   "metadata": {},
   "source": [
    "# Determine if the Language is Supported"
   ]
  },
  {
   "cell_type": "code",
   "execution_count": 8,
   "metadata": {},
   "outputs": [],
   "source": [
    "def ask(str):\n",
    "    a=1\n",
    "    while a==1:\n",
    "        speak(str)\n",
    "        b = hear().lower()\n",
    "        b = decide1(b)  \n",
    "        if b in inv_map:\n",
    "            val = inv_map.get(b)\n",
    "            a=0\n",
    "        else:\n",
    "            speak(\"Either the language is not supported or you need to speak clearly. Please try again\")\n",
    "            a=1\n",
    "    return val"
   ]
  },
  {
   "cell_type": "markdown",
   "metadata": {},
   "source": [
    "# Start Translating"
   ]
  },
  {
   "cell_type": "code",
   "execution_count": 105,
   "metadata": {},
   "outputs": [
    {
     "name": "stdout",
     "output_type": "stream",
     "text": [
      "Recognizing...\n",
      "Bengali\n",
      "Recognizing...\n",
      "English\n",
      "Recognizing...\n",
      "আমার খুব ঘুম পেয়েছে\n",
      "Detected(lang=bn, confidence=1.0)\n",
      "I got very sleepy\n"
     ]
    }
   ],
   "source": [
    "############################### Tkinter is used to make a GUI for translating ###############################\n",
    "import tkinter as tk\n",
    "\n",
    "# creating a new tkinter window \n",
    "master = tk.Tk() \n",
    "\n",
    "canvas = tk.Canvas(master, width = 400, height = 300)\n",
    "canvas.pack()\n",
    "\n",
    "l1 = tk.Label(master, text = \"From\")\n",
    "canvas.create_window(100, 20, window=l1)\n",
    "\n",
    "l2 = tk.Label(master, text = \"To\")\n",
    "canvas.create_window(300, 20, window=l2)\n",
    "\n",
    "#################################################################\n",
    "fl = ask(\"Mention the language you are speaking in\")\n",
    "f = d.get(fl)\n",
    "e1 = tk.Entry (master)\n",
    "e1.insert(10, f)\n",
    "canvas.create_window(100, 50, window=e1)\n",
    "\n",
    "# creating arrow in the canvas\n",
    "canvas.create_line(170, 50, 230, 50, arrow=tk.LAST)\n",
    "\n",
    "tl = ask(\"Mention the language you want the translation in\")\n",
    "t = d.get(tl)\n",
    "e2 = tk.Entry (master)\n",
    "e2.insert(10, t)\n",
    "canvas.create_window(300, 50, window=e2)\n",
    "\n",
    "l3 = tk.Label(master, text = \"Spoken Sentence\")\n",
    "canvas.create_window(100, 100, window=l3)\n",
    "\n",
    "l4 = tk.Label(master, text = \"Translated Sentence\")\n",
    "canvas.create_window(300, 100, window=l4)\n",
    "#################################################################\n",
    "speak(\"Speak the sentence you want to translate\")\n",
    "text = hear(fl)\n",
    "e3 = tk.Entry (master, text = text)\n",
    "e3.insert(10,text)\n",
    "canvas.create_window(100, 130, window=e3)\n",
    "\n",
    "canvas.create_line(170, 130, 230, 130, arrow=tk.LAST)\n",
    "##################################################################\n",
    "\n",
    "################# Start Translating ##################\n",
    "from googletrans import Translator\n",
    "translator = Translator()\n",
    "\n",
    "dt1 = translator.detect(text) # determine the language of the text with detect()\n",
    "print(dt1)\n",
    "\n",
    "#translated = translated = translator.translate(text) # translate the language to English (default)\n",
    "#print(translated.text)\n",
    "\n",
    "translated = translator.translate(text, src=fl, dest=tl) # translate the source language to destination language\n",
    "print(translated.text)\n",
    "\n",
    "text1 = translated.text\n",
    "e4 = tk.Entry (master, text = text1)\n",
    "e4.insert(10, text1)\n",
    "canvas.create_window(300, 130, window=e4)\n",
    "\n",
    "master.mainloop()"
   ]
  },
  {
   "cell_type": "markdown",
   "metadata": {},
   "source": [
    "# Read out the Translation"
   ]
  },
  {
   "cell_type": "code",
   "execution_count": null,
   "metadata": {},
   "outputs": [],
   "source": [
    "#pip install gTTS"
   ]
  },
  {
   "cell_type": "code",
   "execution_count": 104,
   "metadata": {},
   "outputs": [],
   "source": [
    "import os\n",
    "\n",
    "###################### Creates & Stores an audio file of any Language #################################\n",
    "def tell(text, lang):\n",
    "    # Import the required module for text to speech conversion \n",
    "    from gtts import gTTS \n",
    "\n",
    "    language = 'en' # Language in which you want to convert \n",
    "\n",
    "    # Passing the text and language to the engine, here we have marked slow=False. Which tells the module that the converted audio should have a high speed \n",
    "    myobj = gTTS(text, lang=tl, slow=False)\n",
    "\n",
    "    # Saving the converted audio in a mp3 file named welcome  \n",
    "    myobj.save(r\"C:\\Users\\Kriti.Biswas\\Desktop\\.ipynb_checkpoints\\audio.mp3\") \n",
    "  \n",
    "    # Playing the converted file \n",
    "    os.system(r\"C:\\Users\\Kriti.Biswas\\Desktop\\.ipynb_checkpoints\\audio.mp3\") \n",
    "    \n",
    "    \n",
    "tell(text1, tl)"
   ]
  },
  {
   "cell_type": "code",
   "execution_count": null,
   "metadata": {},
   "outputs": [],
   "source": []
  }
 ],
 "metadata": {
  "kernelspec": {
   "display_name": "Python 3",
   "language": "python",
   "name": "python3"
  },
  "language_info": {
   "codemirror_mode": {
    "name": "ipython",
    "version": 3
   },
   "file_extension": ".py",
   "mimetype": "text/x-python",
   "name": "python",
   "nbconvert_exporter": "python",
   "pygments_lexer": "ipython3",
   "version": "3.6.5"
  }
 },
 "nbformat": 4,
 "nbformat_minor": 4
}
